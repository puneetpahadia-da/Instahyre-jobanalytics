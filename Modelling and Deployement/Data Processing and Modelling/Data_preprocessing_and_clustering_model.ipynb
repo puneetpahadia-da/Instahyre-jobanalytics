{
 "cells": [
  {
   "cell_type": "code",
   "execution_count": null,
   "id": "9307a9c0",
   "metadata": {},
   "outputs": [],
   "source": [
    "# Import necessary libraries\n",
    "import numpy as np\n",
    "import pandas as pd\n",
    "import matplotlib.pyplot as plt\n",
    "import seaborn as sns\n",
    "import warnings\n",
    "\n",
    "# Ignore warnings\n",
    "warnings.filterwarnings(\"ignore\")\n",
    "\n",
    "# Set a display option for maximum column width in Pandas DataFrames\n",
    "pd.set_option('max_colwidth', 100)\n",
    "\n",
    "# Read data from a CSV file into a Pandas DataFrame\n",
    "df = pd.read_csv('Table_622.csv')\n",
    "df.head()"
   ]
  },
  {
   "cell_type": "code",
   "execution_count": null,
   "id": "44a36d04",
   "metadata": {},
   "outputs": [],
   "source": [
    "# Preprocess the 'Exp' (Experience) column by removing \"Years\" and taking the mean of experience ranges\n",
    "df['Exp'] = df['Exp'].str.replace(' Years','')\n",
    "a = df['Exp'][1].split('-')\n",
    "(int(a[0])+int(a[1]))/2\n",
    "df['Exp']=(df.Exp.str.split('-').str[0].astype('int64')+df.Exp.str.split('-').str[1].astype('int64'))/2\n",
    "df['Exp']\n",
    "\n",
    "# Create bins (intervals) of mean experience values and encode them\n",
    "df['Exp_range']=pd.cut(df['Exp'], bins=[-1,0,3,5,8,12,21])\n",
    "df[['Exp','Exp_range']]\n",
    "df['Exp_range'].value_counts()\n",
    "\n",
    "# Encode the above interval values of experience using LabelEncoder\n",
    "from sklearn.preprocessing import LabelEncoder\n",
    "le = LabelEncoder()\n",
    "df['Exp_range'] = le.fit_transform(df['Exp_range'])\n",
    "df['Exp_range'].value_counts()"
   ]
  },
  {
   "cell_type": "code",
   "execution_count": null,
   "id": "3ea58242",
   "metadata": {},
   "outputs": [],
   "source": [
    "# Define a function to categorize experience levels and apply it to create a new column\n",
    "def Experience_level(val):\n",
    "    if val==0:\n",
    "        return 'Fresher'\n",
    "    elif val==1:\n",
    "        return 'Junior Level'\n",
    "    elif val==2:\n",
    "        return 'Intermediate Level'\n",
    "    elif val==3:\n",
    "        return 'Mid Senior Level'\n",
    "    elif val==4:\n",
    "        return 'Senior'\n",
    "    elif val==5:\n",
    "        return 'Executive'\n",
    "df['Experience_level'] = df['Exp_range'].apply(Experience_level)\n",
    "df.head()"
   ]
  },
  {
   "cell_type": "code",
   "execution_count": null,
   "id": "8123aa59",
   "metadata": {},
   "outputs": [],
   "source": [
    "# Drop unnecessary columns 'Exp_range' and 'Exp'\n",
    "df.drop(['Exp_range','Exp'], axis=1, inplace=True)\n",
    "df.head(1)"
   ]
  },
  {
   "cell_type": "code",
   "execution_count": null,
   "id": "bdc01354",
   "metadata": {},
   "outputs": [],
   "source": [
    "# Preprocess the 'employees_count' column by mapping it to mean values\n",
    "temp = {\n",
    "    \"More than 1000 employees\": 1000,\n",
    "    \"500 - 1000 employees\": 750,\n",
    "    \"50 - 200 employees\": 125,\n",
    "    \"200 - 500 employees\": 350,\n",
    "    \"10 - 50 employees\": 30,\n",
    "    \"0 - 10 employees\": 5\n",
    "}\n",
    "df['employees_count'] = df['employees_count'].replace(temp).astype('int64')\n",
    "df.head(1)"
   ]
  },
  {
   "cell_type": "code",
   "execution_count": null,
   "id": "75c42bed",
   "metadata": {},
   "outputs": [],
   "source": [
    "# Clean and preprocess the 'estab_year' column and calculate the age of the company\n",
    "df['estab_year'] = df['estab_year'].replace('[^0-9]','',regex=True).astype('int64')\n",
    "df.head(1)\n",
    "df['AgeOfCompany'] = 2023 - df['estab_year']\n",
    "df.sample(3)"
   ]
  },
  {
   "cell_type": "code",
   "execution_count": null,
   "id": "4024c0c8",
   "metadata": {},
   "outputs": [],
   "source": [
    "# Rename columns for clarity\n",
    "rename = {\n",
    "  'name' : 'CompanyName',\n",
    "  'estab_year' : 'Company_estab_year',\n",
    "  'employees_count' : 'employees_count',\n",
    "  'location': 'Location',\n",
    "  'job_ids' :'JobID',\n",
    "  'skills' :'Skills',\n",
    "  'hr' : 'Hr_name',\n",
    "  'Designation' : 'Job_Designation',\n",
    "  'Involvement' : 'Involvement',\n",
    "  'url' : 'Job_url',\n",
    "  'Industry' : 'Industry',\n",
    "  'Experience_level' : 'Experience_level',\n",
    "  'AgeOfCompany' : 'AgeOfCompany'\n",
    "}\n",
    "df.rename(columns = rename, inplace=True)\n",
    "df.columns.to_list()"
   ]
  },
  {
   "cell_type": "code",
   "execution_count": null,
   "id": "95886be7",
   "metadata": {},
   "outputs": [],
   "source": [
    "# Reorder columns in the DataFrame\n",
    "reordering = ['JobID', 'Job_Designation', 'Involvement', 'Experience_level', 'Hr_name', 'Skills', 'CompanyName', 'Company_estab_year', 'AgeOfCompany',\n",
    "              'Industry', 'Location', 'employees_count', 'Job_url']\n",
    "df = df[reordering]\n",
    "df.head(1)\n",
    "df.shape\n",
    "df['employees_count'].value_counts()"
   ]
  },
  {
   "cell_type": "code",
   "execution_count": null,
   "id": "545ba097",
   "metadata": {},
   "outputs": [],
   "source": [
    "# Create scatter plots and box plots to visualize data distribution and outliers\n",
    "plt.scatter(df.employees_count, df.AgeOfCompany)\n",
    "plt.xlabel('Count of Employees')\n",
    "plt.ylabel('Age of Company')\n",
    "\n",
    "for i in ['employees_count', 'AgeOfCompany']:\n",
    "    sns.boxplot(x=df[i])\n",
    "    plt.show()\n",
    "\n",
    "# Remove extreme outliers from the 'AgeOfCompany' column\n",
    "df = df[df['AgeOfCompany'] <= 50]\n",
    "plt.scatter(df.employees_count, df.AgeOfCompany)\n",
    "plt.xlabel('Count of Employees')\n",
    "plt.ylabel('Age of Company')\n",
    "df.head(1)"
   ]
  },
  {
   "cell_type": "code",
   "execution_count": null,
   "id": "0e6c37ed",
   "metadata": {},
   "outputs": [],
   "source": [
    "# Save the ordered DataFrame to a CSV file\n",
    "df.to_csv('Merged_Data.csv', index=False)"
   ]
  }
 ],
 "metadata": {
  "kernelspec": {
   "display_name": "Python 3 (ipykernel)",
   "language": "python",
   "name": "python3"
  },
  "language_info": {
   "codemirror_mode": {
    "name": "ipython",
    "version": 3
   },
   "file_extension": ".py",
   "mimetype": "text/x-python",
   "name": "python",
   "nbconvert_exporter": "python",
   "pygments_lexer": "ipython3",
   "version": "3.11.2"
  }
 },
 "nbformat": 4,
 "nbformat_minor": 5
}
