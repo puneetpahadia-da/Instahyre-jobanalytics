{
 "cells": [
  {
   "cell_type": "code",
   "execution_count": null,
   "id": "71e09845",
   "metadata": {},
   "outputs": [],
   "source": [
    "# Import necessary libraries\n",
    "import pandas as pd\n",
    "import numpy as np\n",
    "\n",
    "# Set a display option for maximum column width in Pandas DataFrames\n",
    "pd.set_option('max_colwidth', 100)\n",
    "\n",
    "# Read data from a CSV file into a Pandas DataFrame\n",
    "df = pd.read_csv('Merged_Data.csv')\n",
    "df.head(3)"
   ]
  },
  {
   "cell_type": "code",
   "execution_count": null,
   "id": "e3043074",
   "metadata": {},
   "outputs": [],
   "source": [
    "# Define a function to extract skills and return them in a list\n",
    "def skillinput(x):\n",
    "    arr = []\n",
    "    for i in df['Skills']:\n",
    "        skills = i.split(',')\n",
    "        for j in skills:\n",
    "            a = j.split(',')[0].strip()\n",
    "            arr.append(a)\n",
    "    arr = list(set(arr))\n",
    "    y = []\n",
    "    skills = arr\n",
    "    if x in skills:\n",
    "        y.append(x.lower())\n",
    "    else:\n",
    "        x = x + \",\"\n",
    "        x = x.lower()\n",
    "        x = x.strip()\n",
    "        x = x.split(',')\n",
    "        for i in range(len(x)):\n",
    "            x[i] = x[i].strip()\n",
    "        y = x\n",
    "        y.remove('')\n",
    "    return y\n",
    "y = df.Skills.str.split(',')\n",
    "y"
   ]
  },
  {
   "cell_type": "code",
   "execution_count": null,
   "id": "a87069ef",
   "metadata": {},
   "outputs": [],
   "source": [
    "# Define a function to filter data based on skills\n",
    "def data(x):\n",
    "    x = skillinput(x)\n",
    "    y = df.Skills.str.split(',')\n",
    "    for i in y:\n",
    "        for g in range(len(i)):\n",
    "            i[g] = i[g].lower()\n",
    "            i[g] = i[g].strip()\n",
    "    df1 = pd.DataFrame()\n",
    "    ind = []\n",
    "    for i in x:\n",
    "        for j in range(len(y)):\n",
    "            if i in y[j]:\n",
    "                ind.append(j)\n",
    "\n",
    "    ind = sorted(list(set(ind)))\n",
    "    df1 = df[df.index.isin(ind)]\n",
    "    if len(df1) < 1:\n",
    "        return 'No Jobs Found For This Skill'\n",
    "    else:\n",
    "        return df1\n",
    "x = skillinput('Corporate Strategy')\n",
    "for i in x:\n",
    "    print(i)"
   ]
  },
  {
   "cell_type": "code",
   "execution_count": null,
   "id": "0996eac0",
   "metadata": {},
   "outputs": [],
   "source": [
    "# Call the 'data' function with different skill inputs\n",
    "len(data('Business Development'))\n",
    "len(data('java, Business Development'))"
   ]
  },
  {
   "cell_type": "code",
   "execution_count": null,
   "id": "e345d968",
   "metadata": {},
   "outputs": [],
   "source": [
    "# Define a function to fetch required details based on skills\n",
    "def fetch_data(x):\n",
    "    s = data(x)\n",
    "    if type(s) == str:\n",
    "        return None\n",
    "    else:\n",
    "        df1 = data(x)\n",
    "        c = df1.Class.mode()[0]\n",
    "        i = df1.Industry.mode()[0]\n",
    "        e = df1.Experince_level.mode()[0]\n",
    "        j = df1.JobID.count()\n",
    "        return(i, e, j, c)\n",
    "fetch_data('Business Development')\n",
    "', '.join(['data', 'python', 'java'])"
   ]
  },
  {
   "cell_type": "code",
   "execution_count": null,
   "id": "8b4a7835",
   "metadata": {},
   "outputs": [],
   "source": [
    "# Use the Fuzzy-Wuzzy algorithm to find a match for input skill\n",
    "from fuzzywuzzy import fuzz\n",
    "from fuzzywuzzy import process\n",
    "\n",
    "def input_match(x):\n",
    "    final_keyword = []\n",
    "    input_variable = []\n",
    "    input_variable.append(x)\n",
    "    choices = lst  # Words to search from the passed skill\n",
    "\n",
    "    for i in input_variable:\n",
    "        a = process.extract(i, choices)\n",
    "        first_match = a[0]\n",
    "        convert_list = list(first_match)\n",
    "        final_keyword.append(convert_list[0])\n",
    "        final_keyword = final_keyword[0]\n",
    "    \n",
    "    return final_keyword\n",
    "\n",
    "input_match(\"Business Development\")"
   ]
  }
 ],
 "metadata": {
  "kernelspec": {
   "display_name": "Python 3 (ipykernel)",
   "language": "python",
   "name": "python3"
  },
  "language_info": {
   "codemirror_mode": {
    "name": "ipython",
    "version": 3
   },
   "file_extension": ".py",
   "mimetype": "text/x-python",
   "name": "python",
   "nbconvert_exporter": "python",
   "pygments_lexer": "ipython3",
   "version": "3.11.2"
  }
 },
 "nbformat": 4,
 "nbformat_minor": 5
}
