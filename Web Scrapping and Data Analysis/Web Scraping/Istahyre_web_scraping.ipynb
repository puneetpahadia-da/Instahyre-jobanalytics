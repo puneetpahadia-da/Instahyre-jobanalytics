{
 "cells": [
  {
   "cell_type": "code",
   "execution_count": null,
   "id": "6e8f6fd4-44fe-4777-a95b-743bf0d93a31",
   "metadata": {},
   "outputs": [],
   "source": [
    "# List of all industies present on Instahyre \n",
    "industries_list = ['Agriculture / Dairy', 'Airlines / Aviation / Aerospace', 'Animation / Graphic / Design', 'Apparel / Fashion', 'Architecture / Interior Design',\n",
    "                  'Arts / Crafts', 'Automotive', 'Banking / Financial / Insurance', 'BPO / Outsourcing', 'Chemicals / Plastics / Rubber', 'Computer Hardware / Networking',\n",
    "                  'Computer Software / IT / Internet', 'Construction / Civil Engineering', 'Consumer Electronics', 'Consumer Goods / FMCG', 'Cosmetics / Beauty',\n",
    "                  'Creative / Photography', 'Defense / Government', 'Education / Training', 'Electricals', 'Events Services', 'Facilities Services', 'Food / Beverages',\n",
    "                  'Freight / Logistics / Transportation', 'Furniture', 'Glass / Ceramics', 'Healthcare / Hospitals', 'Hospitality / Travel', 'Human Resources / Staffing / Recruiting',\n",
    "                  'Import / Export / Trading', 'Industrial Products / Machinery', 'Legal', 'Luxury Goods / Jewellery', 'Management Consulting', 'Market Research / Analytics',\n",
    "                  'Marketing / Advertising', 'Media / Entertainment', 'Medical Devices', 'Mining / Metals / Steel', 'Nonprofit / Social Services', 'Office Supplies / Equipment',\n",
    "                  'Oil & Gas / Infrastructure / Energy','Other', 'Paper / Forest Products','Performing Arts','Pharma / Biotech','Political Organization','Printing / Packaging',\n",
    "                  'Public Relations','Publishing','Real Estate / Property', 'Religious Institutions','Renewables / Environment','Retail','Security / Law Enforcement','Semiconductors',\n",
    "                  'Shipping / Marine','Telecommunications','Textiles / Garments','Tobacco','Utilities','Wellness / Fitness / Sports','Wholesale','Wine / Spirits / Brewery']"
   ]
  },
  {
   "cell_type": "code",
   "execution_count": null,
   "id": "93366389-2ace-4d12-85c0-b4a9ee81245b",
   "metadata": {},
   "outputs": [],
   "source": [
    "import pandas as pd\n",
    "pd.set_option('max_colwidth', 100)"
   ]
  },
  {
   "cell_type": "code",
   "execution_count": null,
   "id": "17ae5f1e-f024-410d-ab64-0a187ea570f2",
   "metadata": {},
   "outputs": [],
   "source": [
    "len(industries_list)"
   ]
  },
  {
   "cell_type": "code",
   "execution_count": null,
   "id": "52b2fa1f-06de-42e8-a7f8-4a17cd815668",
   "metadata": {},
   "outputs": [],
   "source": [
    "# Code for checking is the crome driver working properly or not \n",
    "from selenium import webdriver   #using selenium for automation\n",
    "from selenium.webdriver.common.by import By\n",
    "from selenium.webdriver.support.select import Select\n",
    "from selenium.webdriver.chrome.options import Options\n",
    "from webdriver_manager.chrome import ChromeDriverManager\n",
    "from selenium.webdriver.common.action_chains import ActionChains\n",
    "import time\n",
    "import numpy as np  \n",
    "\n",
    "options = webdriver.ChromeOptions()\n",
    "options.add_argument(\"Mozilla/5.0 (Windows NT 10.0; Win64; x64) AppleWebKit/537.36 (KHTML, like Gecko) Chrome/114.0.0.0 Safari/537.36\")\n",
    "\n",
    "driver = webdriver.Chrome()\n",
    "\n",
    "website = 'https://www.instahyre.com/search-jobs/'  #Instahyre search jobs webpage\n",
    "\n",
    "driver.get(website)  \n",
    "\n",
    "time.sleep(2)\n",
    "\n",
    "driver.quit() "
   ]
  },
  {
   "cell_type": "code",
   "execution_count": null,
   "id": "0d22dfff-112b-4426-a5fa-6e03a23efb08",
   "metadata": {
    "scrolled": true
   },
   "outputs": [],
   "source": [
    "# Code for gattering the links of all the jobs there on page (based on each industry present)\n",
    "from selenium import webdriver\n",
    "from selenium.webdriver.common.by import By\n",
    "from selenium.webdriver.support.select import Select\n",
    "from selenium.webdriver.chrome.options import Options\n",
    "from webdriver_manager.chrome import ChromeDriverManager\n",
    "from selenium.webdriver.common.action_chains import ActionChains\n",
    "from selenium.webdriver.common.keys import Keys\n",
    "import time\n",
    "import numpy as np\n",
    "from collections import OrderedDict\n",
    "from selenium.webdriver.support.ui import WebDriverWait\n",
    "from selenium.webdriver.support import expected_conditions as EC\n",
    "\n",
    "options = webdriver.ChromeOptions()\n",
    "options.add_argument(\"Mozilla/5.0 (Windows NT 10.0; Win64; x64) AppleWebKit/537.36 (KHTML, like Gecko) Chrome/114.0.0.0 Safari/537.36\")\n",
    "\n",
    "driver = webdriver.Chrome()\n",
    "\n",
    "website = 'https://www.instahyre.com/search-jobs/'\n",
    "\n",
    "driver.get(website)\n",
    "i = 0\n",
    "links = []\n",
    "headings = []\n",
    "industry = []\n",
    "locations = []\n",
    "\n",
    "industries = driver.find_element(By.ID, 'industries-types-selectized')\n",
    "\n",
    "for v in industries_list:\n",
    "    industries.clear()\n",
    "    industries.send_keys(v)\n",
    "    print(f\"Industry -- {v}\")\n",
    "    time.sleep(2)\n",
    "    industries.send_keys(Keys.ENTER)\n",
    "    time.sleep(1)\n",
    "    show_result = driver.find_element(By.XPATH, '//button[@class=\"btn btn-primary show-results\"]')\n",
    "    show_result.click()\n",
    "    time.sleep(1)\n",
    "\n",
    "    i = 0\n",
    "    while True:\n",
    "        driver.implicitly_wait(5)\n",
    "        time.sleep(3)\n",
    "\n",
    "\n",
    "        h1 = driver.find_elements(By.XPATH, \"//div[@class='company-name ng-binding']\")\n",
    "        for j in h1:\n",
    "            # print(j.text)\n",
    "            if j==[]:\n",
    "                headings.append(np.nan)\n",
    "            elif j.text != '':\n",
    "                headings.append(j.text.strip())\n",
    "                \n",
    "        # location\n",
    "        driver.implicitly_wait(5)\n",
    "        location = driver.find_elements(By.XPATH, \"//span[@class='ng-binding ng-scope']\")\n",
    "        for l in location:\n",
    "            if location==[]:\n",
    "                locations.append(np.nan)\n",
    "            else:               \n",
    "                locations.append(l.text.strip())\n",
    "            industry.append(v)\n",
    "\n",
    "        # job_links with explicit wait\n",
    "        try:\n",
    "            links_element = WebDriverWait(driver, 10).until(EC.presence_of_all_elements_located((By.ID, 'employer-profile-opportunity')))\n",
    "            for link in links_element:\n",
    "                href = link.get_attribute('href')\n",
    "                if link == []:\n",
    "                    links.append(np.nan)\n",
    "                else:\n",
    "                    links.append(f\"{href} -- {v}\")\n",
    "        except:\n",
    "            pass\n",
    "\n",
    "        links = list(OrderedDict.fromkeys(links))  #we were getting one link multiple time, so used this to just get it once (use case is in next cell)\n",
    "\n",
    "        i += 1\n",
    "\n",
    "        print(f\"Scrolled {i} times\")\n",
    "\n",
    "        time.sleep(2)\n",
    "\n",
    "        driver.execute_script(\"window.scrollTo(0, document.body.scrollHeight);\")\n",
    "\n",
    "        try:\n",
    "            next_button = WebDriverWait(driver, 10).until(EC.element_to_be_clickable((By.XPATH, \"//li[@ng-click='nextPage()']\")))\n",
    "            if next_button.is_displayed():\n",
    "                ActionChains(driver).move_to_element(next_button).click().perform()\n",
    "            else:\n",
    "                print('1')\n",
    "                break\n",
    "\n",
    "        except:\n",
    "            print('2')\n",
    "            break\n",
    "        if not next_button.is_displayed():\n",
    "            print('3')\n",
    "            break\n",
    "    industries = driver.find_element(By.ID, 'industries-types-selectized')\n",
    "    time.sleep(1)\n",
    "    industries.send_keys(Keys.CONTROL + 'a')  # Select all text\n",
    "    industries.send_keys(Keys.BACKSPACE)\n",
    "    time.sleep(2)\n",
    "    print('**************')\n",
    "\n",
    "# driver.quit()\n"
   ]
  },
  {
   "cell_type": "code",
   "execution_count": null,
   "id": "a40b0bf2-7073-4041-bda4-2814c43495ea",
   "metadata": {},
   "outputs": [],
   "source": [
    "from collections import OrderedDict  #use-case \n",
    "list(OrderedDict.fromkeys([1,3,2,4,2,9,2,1]))"
   ]
  },
  {
   "cell_type": "code",
   "execution_count": null,
   "id": "e7e0654b-c6b8-4605-84ac-232467c5fc14",
   "metadata": {},
   "outputs": [],
   "source": [
    "len(headings), len(locations), len(links), len(industry)  #checking the len of each feature extracted"
   ]
  },
  {
   "cell_type": "code",
   "execution_count": null,
   "id": "74951fe4-9fe6-4fef-80e1-b36837c747cf",
   "metadata": {},
   "outputs": [],
   "source": [
    "# adding the list in key, value pairs (basically in a dictonary)\n",
    "data = {\n",
    "    'headings': headings,\n",
    "    'locations': locations,\n",
    "    'links': links,\n",
    "    'Industry' : industry\n",
    "}"
   ]
  },
  {
   "cell_type": "code",
   "execution_count": null,
   "id": "200150ec-319b-4cb1-a2d8-724cec799825",
   "metadata": {},
   "outputs": [],
   "source": [
    "# making a dataframe of our extracted data\n",
    "df_sample = pd.DataFrame(data)"
   ]
  },
  {
   "cell_type": "code",
   "execution_count": null,
   "id": "527a5de7-75d9-4b97-b35b-f3b1cc6ee1f6",
   "metadata": {},
   "outputs": [],
   "source": [
    "df_sample.isnull().sum()"
   ]
  },
  {
   "cell_type": "code",
   "execution_count": null,
   "id": "7156a47d-1f82-4801-bd20-04e722e577c1",
   "metadata": {},
   "outputs": [],
   "source": [
    "df_sample.duplicated().sum()"
   ]
  },
  {
   "cell_type": "code",
   "execution_count": null,
   "id": "ddd9f5d7-8643-4063-8f9d-977baf234da5",
   "metadata": {},
   "outputs": [],
   "source": [
    "df_sample.head(5)"
   ]
  },
  {
   "cell_type": "code",
   "execution_count": null,
   "id": "694c643a-bb47-4ff6-887e-17a26723411f",
   "metadata": {},
   "outputs": [],
   "source": [
    "df_sample.shape"
   ]
  },
  {
   "cell_type": "code",
   "execution_count": null,
   "id": "89249831-3858-4405-b873-5f947775a2e7",
   "metadata": {},
   "outputs": [],
   "source": [
    "df_sample.to_csv('623_link_with_industries.csv',index=False)"
   ]
  },
  {
   "cell_type": "code",
   "execution_count": null,
   "id": "c2e10f63-83b1-4858-bde3-09c1ae6e30d7",
   "metadata": {},
   "outputs": [],
   "source": [
    "links_element = driver.find_elements(By.ID, 'employer-profile-opportunity')"
   ]
  },
  {
   "cell_type": "code",
   "execution_count": null,
   "id": "fcdb3e04-a9db-4e77-9390-9da9bf28240f",
   "metadata": {},
   "outputs": [],
   "source": [
    "links = []\n",
    "for link in links_element:\n",
    "    href = link.get_attribute('href')\n",
    "    links.append(href)"
   ]
  },
  {
   "cell_type": "code",
   "execution_count": null,
   "id": "bbd4a60a-f0cf-406a-8ef6-aaf6fa946012",
   "metadata": {},
   "outputs": [],
   "source": [
    "df = pd.read_csv(\"623_link_with_industries.csv\")"
   ]
  },
  {
   "cell_type": "code",
   "execution_count": null,
   "id": "d1936606-a047-4506-9801-e96f0448e89d",
   "metadata": {},
   "outputs": [],
   "source": [
    "df.head()"
   ]
  },
  {
   "cell_type": "code",
   "execution_count": null,
   "id": "c7ed0b15-eacd-4f70-aa4e-70975b40f12c",
   "metadata": {},
   "outputs": [],
   "source": [
    "df[['links','Industryy']]=df['links'].str.split(' -- ', expand=True)"
   ]
  },
  {
   "cell_type": "code",
   "execution_count": null,
   "id": "f667ccf7-64c9-4ff5-a01a-9bd8e4545741",
   "metadata": {
    "scrolled": true
   },
   "outputs": [],
   "source": [
    "df['Industry'] == df['Industryy']"
   ]
  },
  {
   "cell_type": "code",
   "execution_count": null,
   "id": "546af44d-76fb-46a9-b592-1fc3aaf9ab48",
   "metadata": {},
   "outputs": [],
   "source": [
    "df"
   ]
  },
  {
   "cell_type": "code",
   "execution_count": null,
   "id": "a98d0118-b4d5-4699-9b82-0b8ea9d75c63",
   "metadata": {},
   "outputs": [],
   "source": [
    "# don't use this code again and again\n",
    "# other wise it will ban the website"
   ]
  },
  {
   "cell_type": "code",
   "execution_count": null,
   "id": "9de4ca31-c1cd-4f52-81fb-bc83964f7ac9",
   "metadata": {
    "scrolled": true
   },
   "outputs": [],
   "source": [
    "# webscarpping code to get other details\n",
    "from selenium import webdriver\n",
    "from selenium.webdriver.common.by import By\n",
    "import numpy as np\n",
    "\n",
    "location = []\n",
    "company_names = []\n",
    "estab_years = []\n",
    "employees_count = []\n",
    "job_id = []\n",
    "skill_list = []\n",
    "hr_name = []\n",
    "designation = [] \n",
    "involvement = []\n",
    "links_ = []\n",
    "experience = []\n",
    "\n",
    "count = -1\n",
    "\n",
    "# Set up the Selenium webdriver\n",
    "driver = webdriver.Chrome()\n",
    "\n",
    "for i in df['links']:\n",
    "    try:\n",
    "        url = i\n",
    "        driver.get(url)\n",
    "        \n",
    "        time.sleep(3)\n",
    "        driver.implicitly_wait(5)\n",
    "        # Location\n",
    "        location_element = driver.find_element(By.XPATH, '//span[@class=\"ng-binding\"]')\n",
    "        if location_element == []:\n",
    "            location.append(np.nan)\n",
    "        else:\n",
    "            location.append(location_element.text.strip())\n",
    "\n",
    "        # Company Name\n",
    "        driver.implicitly_wait(5)\n",
    "        company_name_element = driver.find_element(By.XPATH, '//h2[@class=\"company-name ng-binding\"]')\n",
    "        if company_name_element == []:\n",
    "            company_names.append(np.nan)\n",
    "        else:\n",
    "            company_names.append(company_name_element.text.strip())\n",
    "\n",
    "        # Establishment Year\n",
    "        driver.implicitly_wait(5)\n",
    "        estab_year_element = driver.find_element(By.XPATH, '//div[@ng-if=\"employer.company_founded\"]')\n",
    "        if estab_year_element == []:\n",
    "            estab_years.append(np.nan)\n",
    "        else:\n",
    "            estab_years.append(estab_year_element.text.strip())\n",
    "\n",
    "            \n",
    "        # Employees Count\n",
    "        driver.implicitly_wait(5)\n",
    "        employees_count_element = driver.find_element(By.XPATH, '//div[@ng-if=\"employer.employee_count\"]')\n",
    "        if employees_count_element == []:\n",
    "            employees_count.append(np.nan)\n",
    "        else:\n",
    "            employees_count.append(employees_count_element.text.strip())\n",
    "            \n",
    "        #job_id\n",
    "        driver.implicitly_wait(5)\n",
    "        job_id.append(int(url.split('-')[1]))\n",
    "\n",
    "        #skills\n",
    "        driver.implicitly_wait(5)\n",
    "        skills_element = driver.find_elements(By.ID, 'job-skills-description')\n",
    "        if skills_element == []:\n",
    "            skill_list.append(np.nan)\n",
    "        else:\n",
    "            for j in skills_element:\n",
    "                skill_list.append(j.text.replace('\\n',', '))\n",
    "\n",
    "        #hr-name\n",
    "        driver.implicitly_wait(5)\n",
    "        hr_name_element = driver.find_element(By.XPATH, '//span[@class=\"rec-name\"]')\n",
    "        if hr_name_element == []:\n",
    "            hr_name.append(np.nan)\n",
    "        else:\n",
    "            hr_name.append(hr_name_element.text.strip())\n",
    "\n",
    "        #designation\n",
    "        driver.implicitly_wait(5)\n",
    "        designation_element = driver.find_element(By.XPATH, '//h1[@class=\"ng-binding\"]')\n",
    "        if designation_element == []:\n",
    "            designation.append(np.nan)  \n",
    "        else:\n",
    "            designation.append(designation_element.text.strip())\n",
    "\n",
    "        #involvement\n",
    "        driver.implicitly_wait(5)\n",
    "        involvement_element = driver.find_element(By.XPATH, '//p[@class=\"ng-binding\"]')\n",
    "        if involvement_element == []:\n",
    "            involvement.append(np.nan)  \n",
    "        else:\n",
    "            involvement.append(involvement_element.text.strip('Function: '))\n",
    "\n",
    "        \n",
    "        #exp\n",
    "        driver.implicitly_wait(5)\n",
    "        exp_element = driver.find_element(By.XPATH, \"//span[@class='experience ng-binding ng-scope']\")\n",
    "        if exp_element == []:\n",
    "            experience.append(np.nan)\n",
    "        else:\n",
    "            experience.append(exp_element.text.strip())\n",
    "        \n",
    "        \n",
    "        #job_link\n",
    "        driver.implicitly_wait(5)\n",
    "        links_.append(url)\n",
    "\n",
    "        \n",
    "\n",
    "        count += 1\n",
    "        print(count, i)\n",
    "    except Exception as e:\n",
    "        print(f\"Error occurred for {i}: {str(e)}\")\n",
    "        \n",
    "        driver.quit()\n",
    "\n",
    "# Close the browser\n",
    "\n",
    "\n",
    "print(count, \"end\")"
   ]
  },
  {
   "cell_type": "code",
   "execution_count": null,
   "id": "d92a020a-827d-4d99-aa63-7d5b5bbd2050",
   "metadata": {},
   "outputs": [],
   "source": [
    "# location = []\n",
    "# company_names = []\n",
    "# estab_years = []\n",
    "# employees_count = []\n",
    "# job_id = []\n",
    "# skill_list = []\n",
    "# hr_name = []\n",
    "# designation = [] \n",
    "# involvement = []\n",
    "# links_ = []\n",
    "# experience = []\n",
    "print(f\"Lenght of location: {len(location)}\"), \n",
    "print(f\"Lenght of company_names: {len(company_names)}\")\n",
    "print(f\"Lenght of estab_years: {len(estab_years)}\")\n",
    "print(f\"Lenght of employees_count: {len(employees_count)}\")\n",
    "print(f\"Lenght of job_id: {len(job_id)}\")\n",
    "print(f\"Lenght of skill_list: {len(skill_list)}\")\n",
    "print(f\"Lenght of hr_name: {len(hr_name)}\")\n",
    "print(f\"Lenght of designation: {len(designation)}\")\n",
    "print(f\"Lenght of involvement: {len(involvement)}\")\n",
    "print(f\"Lenght of links_: {len(links_)}\")\n",
    "print(f\"Lenght of experience: {len(experience)}\")"
   ]
  },
  {
   "cell_type": "code",
   "execution_count": null,
   "id": "6d9a7834-3a28-47e6-b4bf-a2975343bd59",
   "metadata": {},
   "outputs": [],
   "source": [
    "data_2 = {\n",
    "    'name': company_names,\n",
    "'estab_year': estab_years,\n",
    "'employees_count': employees_count,\n",
    "    'location' : location,\n",
    "    'job_ids' : job_id,\n",
    "    'skills' : skill_list,\n",
    "    'hr' : hr_name,\n",
    "    'Designation' : designation,\n",
    "    'Involvement' : involvement,\n",
    "    'Exp' : experience,\n",
    "    'url' : links_\n",
    "}"
   ]
  },
  {
   "cell_type": "code",
   "execution_count": null,
   "id": "5cd06403-5bb2-4a0c-94c1-009ab33017f4",
   "metadata": {},
   "outputs": [],
   "source": [
    "df_sample2 = pd.DataFrame(data_2)"
   ]
  },
  {
   "cell_type": "code",
   "execution_count": null,
   "id": "6b30d2f3-3cb7-463d-bd98-e52a1d856468",
   "metadata": {},
   "outputs": [],
   "source": [
    "df_sample2"
   ]
  },
  {
   "cell_type": "code",
   "execution_count": null,
   "id": "5d8682ef-4abc-4ccb-88cb-e352e9e531c2",
   "metadata": {},
   "outputs": [],
   "source": [
    "df_sample2.to_csv('final_623_data.csv',index=False)"
   ]
  },
  {
   "cell_type": "code",
   "execution_count": null,
   "id": "3bd4cab1-22d8-4f75-8c2f-ecdbbac07040",
   "metadata": {
    "scrolled": true
   },
   "outputs": [],
   "source": [
    "def make_clickable(val):\n",
    "    return '<a href=\"{}\">{}</a>'.format(val,val)\n",
    "\n",
    "df_sample2.style.format(make_clickable)"
   ]
  },
  {
   "cell_type": "code",
   "execution_count": null,
   "id": "b912f801-627b-42d0-8211-243b8b6ae866",
   "metadata": {},
   "outputs": [],
   "source": [
    "from selenium import webdriver   #using selenium for automation\n",
    "from selenium.webdriver.common.by import By\n",
    "from selenium.webdriver.chrome.options import Options\n",
    "from webdriver_manager.chrome import ChromeDriverManager\n",
    "from selenium.webdriver.common.action_chains import ActionChains\n",
    "import time\n",
    "import numpy as np\n",
    "import pandas as pd  \n",
    "import re\n",
    "\n",
    "skill = []\n",
    "\n",
    "options = webdriver.ChromeOptions()\n",
    "options.add_argument(\"Mozilla/5.0 (Windows NT 10.0; Win64; x64) AppleWebKit/537.36 (KHTML, like Gecko) Chrome/114.0.0.0 Safari/537.36\")\n",
    "\n",
    "driver = webdriver.Chrome()\n",
    "\n",
    "website = 'https://www.instahyre.com/job-266464-senior-product-designer-at-syndr-singapore/' \n",
    "\n",
    "driver.get(website)\n",
    "\n",
    "time.sleep(2)\n",
    "\n",
    "skills = driver.find_elements(By.ID, 'job-skills-description')\n",
    "\n",
    "if skills == []:\n",
    "    skill.append(np.nan)\n",
    "else:\n",
    "    for j in skills:\n",
    "        skill.append(j.text.replace('\\n',', '))"
   ]
  },
  {
   "cell_type": "code",
   "execution_count": null,
   "id": "f4f586c5-f22c-48e0-9222-9a10652eaf81",
   "metadata": {},
   "outputs": [],
   "source": [
    "skill"
   ]
  },
  {
   "cell_type": "code",
   "execution_count": null,
   "id": "d11bfb16-2e1a-4b03-8afd-0443703a9eaa",
   "metadata": {},
   "outputs": [],
   "source": [
    "len(skill)"
   ]
  },
  {
   "cell_type": "code",
   "execution_count": null,
   "id": "ed06cc49-2bf3-4b22-a35b-04e35f0d9c05",
   "metadata": {},
   "outputs": [],
   "source": [
    "from selenium import webdriver   #using selenium for automation\n",
    "from selenium.webdriver.common.by import By\n",
    "from selenium.webdriver.chrome.options import Options\n",
    "from webdriver_manager.chrome import ChromeDriverManager\n",
    "from selenium.webdriver.common.action_chains import ActionChains\n",
    "import time\n",
    "import numpy as np\n",
    "import pandas as pd  \n",
    "import re\n",
    "\n",
    "skill = []\n",
    "\n",
    "options = webdriver.ChromeOptions()\n",
    "options.add_argument(\"Mozilla/5.0 (Windows NT 10.0; Win64; x64) AppleWebKit/537.36 (KHTML, like Gecko) Chrome/114.0.0.0 Safari/537.36\")\n",
    "\n",
    "driver = webdriver.Chrome()\n",
    "\n",
    "website = 'https://www.instahyre.com/job-266323-sales-manager-portfolio-drive-at-axis-bank-amritsar-chennai-delhi/' \n",
    "\n",
    "driver.get(website)\n",
    "\n",
    "time.sleep(2)\n",
    "\n",
    "skills = driver.find_elements(By.ID, 'job-skills-description')\n",
    "\n",
    "if skills == []:\n",
    "    skill.append(None)\n",
    "else: \n",
    "    for j in skills:\n",
    "        skill.append(j.text.replace('\\n',', '))"
   ]
  },
  {
   "cell_type": "code",
   "execution_count": null,
   "id": "6107b8c0-2872-4c04-86d0-9f219bc6fcd0",
   "metadata": {},
   "outputs": [],
   "source": [
    "skill"
   ]
  },
  {
   "cell_type": "code",
   "execution_count": null,
   "id": "d8adf221-bd7f-4f7d-9575-e5a3a046976c",
   "metadata": {},
   "outputs": [],
   "source": [
    "df_2 = pd.read_csv(\"final_623_data.csv\")"
   ]
  },
  {
   "cell_type": "code",
   "execution_count": null,
   "id": "92cbb4fa-27f2-4020-a08f-a060c55b8353",
   "metadata": {},
   "outputs": [],
   "source": [
    "df_2"
   ]
  },
  {
   "cell_type": "code",
   "execution_count": null,
   "id": "1ed48105-881e-43af-abc5-2468ad00b5ec",
   "metadata": {
    "scrolled": true
   },
   "outputs": [],
   "source": [
    "def make_clickable(val):\n",
    "    return '<a href=\"{}\">{}</a>'.format(val,val)\n",
    "\n",
    "df_2.style.format(make_clickable)"
   ]
  },
  {
   "cell_type": "code",
   "execution_count": null,
   "id": "0840d8c5-b969-4d0e-93b2-6c1dff4bccc5",
   "metadata": {},
   "outputs": [],
   "source": [
    "df_2.isnull().sum()"
   ]
  },
  {
   "cell_type": "code",
   "execution_count": null,
   "id": "03a4c02b-352a-4372-a744-a2538f6834ca",
   "metadata": {},
   "outputs": [],
   "source": [
    "df_2[df_2['name'].isnull()==True]"
   ]
  },
  {
   "cell_type": "code",
   "execution_count": null,
   "id": "89f43882-11aa-44b2-8805-eed44660c198",
   "metadata": {},
   "outputs": [],
   "source": [
    "df_2[df_2['employees_count'].isnull()==True]"
   ]
  },
  {
   "cell_type": "code",
   "execution_count": null,
   "id": "f38951df-955e-4d1e-a1ac-19c1b5e4bada",
   "metadata": {},
   "outputs": [],
   "source": [
    "df.head(1)"
   ]
  },
  {
   "cell_type": "code",
   "execution_count": null,
   "id": "d006c35a-993a-4f39-96d0-73aea2eeb0e3",
   "metadata": {},
   "outputs": [],
   "source": [
    "df_3 = pd.merge(df_2, df, how='right', left_on='url', right_on='links')"
   ]
  },
  {
   "cell_type": "code",
   "execution_count": null,
   "id": "0eeea01e-018d-4e56-b527-e0631784b140",
   "metadata": {},
   "outputs": [],
   "source": [
    "df_3"
   ]
  },
  {
   "cell_type": "code",
   "execution_count": null,
   "id": "87092083-f3d3-402c-b3e6-cf0072722880",
   "metadata": {},
   "outputs": [],
   "source": [
    "df_3.duplicated().sum()"
   ]
  },
  {
   "cell_type": "code",
   "execution_count": null,
   "id": "9a44f76a-ca47-4087-96da-267da03329e6",
   "metadata": {},
   "outputs": [],
   "source": [
    "df_3.isnull().sum()"
   ]
  },
  {
   "cell_type": "code",
   "execution_count": null,
   "id": "5cae9985-96c0-497a-b65f-dda7318edf56",
   "metadata": {},
   "outputs": [],
   "source": [
    "df_3.drop_duplicates(inplace=True, ignore_index=True)"
   ]
  },
  {
   "cell_type": "code",
   "execution_count": null,
   "id": "5c06bdf4-dde1-4b32-9ee9-ce66750f533e",
   "metadata": {},
   "outputs": [],
   "source": [
    "df_3"
   ]
  },
  {
   "cell_type": "code",
   "execution_count": null,
   "id": "0b580ae5-8e5c-49a2-826d-7d7b1fb2362c",
   "metadata": {},
   "outputs": [],
   "source": [
    "df_3.dropna(axis=0,inplace=True)"
   ]
  },
  {
   "cell_type": "code",
   "execution_count": null,
   "id": "79d2d9c8-ff2c-4f61-bec2-8b2574a070f0",
   "metadata": {},
   "outputs": [],
   "source": [
    "df_3.shape"
   ]
  },
  {
   "cell_type": "code",
   "execution_count": null,
   "id": "897f01f9-82b4-4c5e-b76e-0a58da312f7f",
   "metadata": {},
   "outputs": [],
   "source": [
    "df_3.drop(['headings','locations', 'links','Industryy'],axis=1, inplace=True)"
   ]
  },
  {
   "cell_type": "code",
   "execution_count": null,
   "id": "46db1dfe-a4ba-4831-b3d6-d37fe515f4eb",
   "metadata": {},
   "outputs": [],
   "source": [
    "df_3"
   ]
  },
  {
   "cell_type": "code",
   "execution_count": null,
   "id": "a3e10777-e503-4da7-a439-3c681318943a",
   "metadata": {},
   "outputs": [],
   "source": [
    "df_3.shape"
   ]
  },
  {
   "cell_type": "code",
   "execution_count": null,
   "id": "c8e1a2bd-d6d8-423c-8903-c0e82e9b7216",
   "metadata": {},
   "outputs": [],
   "source": [
    "df_3.to_csv(\"Table_622.csv\",index=False)"
   ]
  },
  {
   "cell_type": "code",
   "execution_count": null,
   "id": "6b2cf824-9ef6-4206-af5c-a930ef332e30",
   "metadata": {},
   "outputs": [],
   "source": [
    "df_new = pd.read_csv(\"Table_622.csv\")"
   ]
  },
  {
   "cell_type": "code",
   "execution_count": null,
   "id": "cbae358c-57f4-454c-9c6d-f6925957783e",
   "metadata": {},
   "outputs": [],
   "source": [
    "df_new"
   ]
  },
  {
   "cell_type": "code",
   "execution_count": null,
   "id": "3088d51a-defa-4c0e-9949-db5beb9ae98a",
   "metadata": {},
   "outputs": [],
   "source": []
  }
 ],
 "metadata": {
  "kernelspec": {
   "display_name": "Python 3 (ipykernel)",
   "language": "python",
   "name": "python3"
  },
  "language_info": {
   "codemirror_mode": {
    "name": "ipython",
    "version": 3
   },
   "file_extension": ".py",
   "mimetype": "text/x-python",
   "name": "python",
   "nbconvert_exporter": "python",
   "pygments_lexer": "ipython3",
   "version": "3.11.2"
  }
 },
 "nbformat": 4,
 "nbformat_minor": 5
}
